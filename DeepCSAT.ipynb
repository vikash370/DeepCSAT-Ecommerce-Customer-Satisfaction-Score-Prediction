{
  "cells": [
    {
      "cell_type": "markdown",
      "metadata": {
        "id": "vncDsAP0Gaoa"
      },
      "source": [
        "# **Project Name**    - DeepCSAT - Ecommerce Customer Satisfaction Score Prediction\n",
        "\n"
      ]
    },
    {
      "cell_type": "markdown",
      "metadata": {
        "id": "beRrZCGUAJYm"
      },
      "source": [
        "##### **Project Type**    - Based on all the code and project descriptions, this is a Deep Learning project.\n",
        "\n",
        "More specifically, it's a:\n",
        "\n",
        "Natural Language Processing (NLP) project, because it reads and interprets human text (Customer Remarks).\n",
        "\n",
        "Sentiment Analysis project, as its goal is to determine the sentiment (positive or negative) from the text.\n",
        "\n",
        "Regression task, because the model predicts a continuous numerical score (from 1 to 5) rather than a fixed category (like \"Happy\" or \"Sad\").\n",
        "##### **Contribution**    - Vikash Kumar Thakur"
      ]
    },
    {
      "cell_type": "markdown",
      "metadata": {
        "id": "FJNUwmbgGyua"
      },
      "source": [
        "# **Project Summary -**"
      ]
    },
    {
      "cell_type": "markdown",
      "metadata": {
        "id": "F6v_1wHtG2nS"
      },
      "source": [
        "This project, DeepCSAT, successfully develops and deploys a deep learning model to predict e-commerce customer satisfaction (CSAT) scores in real-time. Using a dataset of customer support interactions, the model is trained specifically on the Customer Remarks text to predict the CSAT Score (a value from 1 to 5). The core of the project is a Bidirectional LSTM (Long Short-Term Memory) network, which is highly effective at understanding the context and sentiment within text. The final solution is a user-friendly web application built with Streamlit, allowing anyone to enter a customer's feedback and instantly receive a predicted satisfaction score."
      ]
    },
    {
      "cell_type": "markdown",
      "metadata": {
        "id": "w6K7xa23Elo4"
      },
      "source": [
        "# **GitHub Link -**"
      ]
    },
    {
      "cell_type": "markdown",
      "metadata": {
        "id": "h1o69JH3Eqqn"
      },
      "source": [
        "Provide your GitHub Link here."
      ]
    },
    {
      "cell_type": "markdown",
      "metadata": {
        "id": "yQaldy8SH6Dl"
      },
      "source": [
        "# **Problem Statement**\n"
      ]
    },
    {
      "cell_type": "markdown",
      "metadata": {
        "id": "DpeJGUA3kjGy"
      },
      "source": [
        "In the fast-paced e-commerce sector, understanding customer satisfaction is critical but traditionally slow. The main problems this project solves are:\n",
        "\n",
        "1. Reactive vs. Proactive: Businesses typically rely on post-interaction surveys. This data is reactive—by the time a customer reports a bad experience, their dissatisfaction has already occurred, and they may have already churned.\n",
        "\n",
        "2. Time Lag & Low Response: Survey data is delayed and often incomplete, as many customers do not fill them out. This creates a blind spot for the business.\n",
        "\n",
        "3. Untapped Data: A large volume of unstructured text data (like chat logs and customer remarks) is \"dark data\"—it is collected but not used for real-time insights.\n",
        "\n",
        "This project provides a proactive solution by automatically analyzing text feedback as it happens. It creates an early warning system to flag unhappy customers instantly, allowing a business to intervene and resolve issues before the customer is lost."
      ]
    },
    {
      "cell_type": "markdown",
      "metadata": {
        "id": "mDgbUHAGgjLW"
      },
      "source": [
        "# **General Guidelines** : -  "
      ]
    },
    {
      "cell_type": "markdown",
      "metadata": {
        "id": "ZrxVaUj-hHfC"
      },
      "source": [
        "This project was built following a standard data science workflow:\n",
        "1. Data Preparation: The eCommerce_Customer_support_data.csv file was loaded. The key features Customer Remarks (as the input, $X$) and CSAT Score (as the target, $y$) were selected. All rows without a customer remark were dropped to create a clean dataset.\n",
        "\n",
        "2. Text Preprocessing: A standard NLP cleaning pipeline was applied to the text:Converted to lowercase.Removed all punctuation and numbers.Removed common \"stopwords\" (e.g., 'the', 'is', 'a').Lemmatized words (e.g., 'running' became 'run') to standardize the vocabulary.\n",
        "\n",
        "3. Feature Engineering: The cleaned text was vectorized using the Keras Tokenizer to convert words into integer sequences. pad_sequences was used to ensure every input sequence had the same length ($50$ words), which is a requirement for the model.\n",
        "\n",
        "4. Model Development: A Sequential deep learning model was built. Its key layers are:\n",
        "- Embedding Layer: Learns word relationships and represents each word as a dense vector.\n",
        "- Bidirectional LSTM Layers: Scan the text in both directions (forward and backward) to capture the full context of a sentence. This is much more powerful than just reading left-to-right.\n",
        "- Dense (Output) Layer: A single neuron with a linear activation function that outputs the final predicted score (e.g., $1.3$ or $4.8$).\n",
        "5. Training & Deployment: The model was compiled with the mean_squared_error loss function and trained. The final trained model (deep_csat_text_model.h5) and the text tokenizer (tokenizer.json) were saved to disk. These two files are all that's needed for deployment."
      ]
    },
    {
      "cell_type": "markdown",
      "metadata": {
        "id": "O_i_v8NEhb9l"
      },
      "source": [
        "# ***Let's Begin !***"
      ]
    },
    {
      "cell_type": "markdown",
      "metadata": {
        "id": "HhfV-JJviCcP"
      },
      "source": [
        "## ***1. Know Your Data***"
      ]
    },
    {
      "cell_type": "markdown",
      "metadata": {
        "id": "Y3lxredqlCYt"
      },
      "source": [
        "### Import Libraries"
      ]
    },
    {
      "cell_type": "code",
      "execution_count": 1,
      "metadata": {
        "id": "M8Vqi-pPk-HR"
      },
      "outputs": [],
      "source": [
        "# Import Libraries\n",
        "import pandas as pd\n",
        "import numpy as np\n",
        "\n",
        "from sklearn.preprocessing import StandardScaler, OneHotEncoder\n",
        "from sklearn.compose import ColumnTransformer\n",
        "from sklearn.feature_extraction.text import TfidfVectorizer\n",
        "\n",
        "from keras.models import Sequential\n",
        "from keras.layers import Dense, Dropout\n",
        "\n",
        "from sklearn.model_selection import train_test_split\n",
        "\n",
        "\n"
      ]
    },
    {
      "cell_type": "markdown",
      "metadata": {
        "id": "3RnN4peoiCZX"
      },
      "source": [
        "# Approach 1: Data Preparation and Cleaning"
      ]
    },
    {
      "cell_type": "markdown",
      "metadata": {},
      "source": [
        "Load the data, select and clean the features, and handle missing values."
      ]
    },
    {
      "cell_type": "code",
      "execution_count": 3,
      "metadata": {
        "id": "4CkvbW_SlZ_R"
      },
      "outputs": [
        {
          "name": "stdout",
          "output_type": "stream",
          "text": [
            "Original rows: 85,907\n",
            "Usable rows (with customer remarks): 28742\n",
            "\n",
            "--- Distribution of CSAT Scores ---\n",
            "csat_score\n",
            "1    0.186069\n",
            "2    0.013708\n",
            "3    0.025398\n",
            "4    0.090564\n",
            "5    0.684260\n",
            "Name: proportion, dtype: float64\n",
            "\n",
            "Note: The dataset is highly imbalanced, with ~68% of scores being '5'.\n"
          ]
        },
        {
          "name": "stderr",
          "output_type": "stream",
          "text": [
            "[nltk_data] Downloading package stopwords to\n",
            "[nltk_data]     C:\\Users\\only1\\AppData\\Roaming\\nltk_data...\n",
            "[nltk_data]   Package stopwords is already up-to-date!\n",
            "[nltk_data] Downloading package wordnet to\n",
            "[nltk_data]     C:\\Users\\only1\\AppData\\Roaming\\nltk_data...\n",
            "[nltk_data]   Package wordnet is already up-to-date!\n"
          ]
        },
        {
          "name": "stdout",
          "output_type": "stream",
          "text": [
            "\n",
            "--- Data after Cleaning ---\n",
            "                                     customer_remarks  csat_score  \\\n",
            "7                                           Very good           5   \n",
            "8   Shopzilla app and it's all coustomer care serv...           5   \n",
            "11                                           Very bad           1   \n",
            "17                                         Something            3   \n",
            "19                                           All good           5   \n",
            "\n",
            "                                         cleaned_text  \n",
            "7                                                good  \n",
            "8   shopzilla app coustomer care service good serv...  \n",
            "11                                                bad  \n",
            "17                                          something  \n",
            "19                                               good  \n"
          ]
        }
      ],
      "source": [
        "import pandas as pd\n",
        "import numpy as np\n",
        "import re\n",
        "import nltk\n",
        "from nltk.corpus import stopwords\n",
        "from nltk.stem import WordNetLemmatizer\n",
        "\n",
        "# 1. Load your dataset\n",
        "df = pd.read_csv(r\"d:\\\\programing\\\\intership 2025\\\\Project 5\\\\eCommerce_Customer_support_data.csv\")\n",
        "\n",
        "# 2. Rename columns for easier access\n",
        "df.rename(columns={\n",
        "    'CSAT Score': 'csat_score',\n",
        "    'Customer Remarks': 'customer_remarks'\n",
        "}, inplace=True)\n",
        "\n",
        "# 3. Select our features and target\n",
        "# We are focusing on rows where 'customer_remarks' is not null\n",
        "df_clean = df[['customer_remarks', 'csat_score']].copy()\n",
        "df_clean.dropna(subset=['customer_remarks'], inplace=True)\n",
        "\n",
        "print(f\"Original rows: 85,907\")\n",
        "print(f\"Usable rows (with customer remarks): {len(df_clean)}\")\n",
        "\n",
        "# 4. Analyze the target variable (CSAT Score)\n",
        "print(\"\\n--- Distribution of CSAT Scores ---\")\n",
        "print(df_clean['csat_score'].value_counts(normalize=True).sort_index())\n",
        "print(\"\\nNote: The dataset is highly imbalanced, with ~68% of scores being '5'.\")\n",
        "\n",
        "# 5. Clean Text Data\n",
        "nltk.download('stopwords')\n",
        "nltk.download('wordnet')\n",
        "stop_words = set(stopwords.words('english'))\n",
        "lemmatizer = WordNetLemmatizer()\n",
        "\n",
        "def clean_text(text):\n",
        "    text = str(text).lower()\n",
        "    text = re.sub(r'<.*?>', '', text)  # To Remove HTML tags\n",
        "    text = re.sub(r'[^a-z\\s]', '', text)  # To Remove punctuation and numbers\n",
        "    words = text.split()\n",
        "    words = [lemmatizer.lemmatize(word) for word in words if word not in stop_words]\n",
        "    return ' '.join(words)\n",
        "\n",
        "# Apply the cleaning function\n",
        "df_clean['cleaned_text'] = df_clean['customer_remarks'].apply(clean_text)\n",
        "\n",
        "print(\"\\n--- Data after Cleaning ---\")\n",
        "print(df_clean.head())"
      ]
    },
    {
      "cell_type": "markdown",
      "metadata": {
        "id": "yLjJCtPM0KBk"
      },
      "source": [
        "# Approach 2: Feature Engineering"
      ]
    },
    {
      "cell_type": "markdown",
      "metadata": {},
      "source": [
        "Convert the cleaned text into numerical sequences that the ANN can understand"
      ]
    },
    {
      "cell_type": "code",
      "execution_count": 4,
      "metadata": {
        "id": "oEXk9ydD2nVC"
      },
      "outputs": [
        {
          "name": "stdout",
          "output_type": "stream",
          "text": [
            "\n",
            "Training data shape: (22993, 50)\n",
            "Test data shape: (5749, 50)\n"
          ]
        }
      ],
      "source": [
        "from sklearn.model_selection import train_test_split\n",
        "from tensorflow.keras.preprocessing.text import Tokenizer\n",
        "from tensorflow.keras.preprocessing.sequence import pad_sequences\n",
        "\n",
        "# 1. Define Features (X) and Target (y)\n",
        "X = df_clean['cleaned_text']\n",
        "y = df_clean['csat_score']\n",
        "\n",
        "# 2. Process Text Features\n",
        "vocab_size = 10000  # Max words in our vocabulary\n",
        "max_length = 50     # Max length of a remark (most remarks are short)\n",
        "trunc_type = 'post'\n",
        "oov_tok = '<OOV>'   # Out-of-vocabulary token\n",
        "\n",
        "tokenizer = Tokenizer(num_words=vocab_size, oov_token=oov_tok)\n",
        "tokenizer.fit_on_texts(X)\n",
        "\n",
        "# Convert text to sequences of integers\n",
        "X_sequences = tokenizer.texts_to_sequences(X)\n",
        "\n",
        "# Pad sequences\n",
        "X_padded = pad_sequences(X_sequences, maxlen=max_length, padding='post', truncating=trunc_type)\n",
        "\n",
        "# 3. Split the Data\n",
        "X_train, X_test, y_train, y_test = train_test_split(\n",
        "    X_padded, y, test_size=0.2, random_state=42\n",
        ")\n",
        "\n",
        "print(f\"\\nTraining data shape: {X_train.shape}\")\n",
        "print(f\"Test data shape: {X_test.shape}\")"
      ]
    },
    {
      "cell_type": "markdown",
      "metadata": {},
      "source": [
        "#  Approach 3: Model Development and Training"
      ]
    },
    {
      "cell_type": "markdown",
      "metadata": {},
      "source": [
        "Design and train a Deep Learning model (using LSTM, which is excellent for text) to predict the CSAT score."
      ]
    },
    {
      "cell_type": "code",
      "execution_count": 5,
      "metadata": {},
      "outputs": [
        {
          "data": {
            "text/html": [
              "<pre style=\"white-space:pre;overflow-x:auto;line-height:normal;font-family:Menlo,'DejaVu Sans Mono',consolas,'Courier New',monospace\"><span style=\"font-weight: bold\">Model: \"sequential_1\"</span>\n",
              "</pre>\n"
            ],
            "text/plain": [
              "\u001b[1mModel: \"sequential_1\"\u001b[0m\n"
            ]
          },
          "metadata": {},
          "output_type": "display_data"
        },
        {
          "data": {
            "text/html": [
              "<pre style=\"white-space:pre;overflow-x:auto;line-height:normal;font-family:Menlo,'DejaVu Sans Mono',consolas,'Courier New',monospace\">┏━━━━━━━━━━━━━━━━━━━━━━━━━━━━━━━━━┳━━━━━━━━━━━━━━━━━━━━━━━━┳━━━━━━━━━━━━━━━┓\n",
              "┃<span style=\"font-weight: bold\"> Layer (type)                    </span>┃<span style=\"font-weight: bold\"> Output Shape           </span>┃<span style=\"font-weight: bold\">       Param # </span>┃\n",
              "┡━━━━━━━━━━━━━━━━━━━━━━━━━━━━━━━━━╇━━━━━━━━━━━━━━━━━━━━━━━━╇━━━━━━━━━━━━━━━┩\n",
              "│ embedding (<span style=\"color: #0087ff; text-decoration-color: #0087ff\">Embedding</span>)           │ (<span style=\"color: #00d7ff; text-decoration-color: #00d7ff\">None</span>, <span style=\"color: #00af00; text-decoration-color: #00af00\">50</span>, <span style=\"color: #00af00; text-decoration-color: #00af00\">32</span>)         │       <span style=\"color: #00af00; text-decoration-color: #00af00\">320,000</span> │\n",
              "├─────────────────────────────────┼────────────────────────┼───────────────┤\n",
              "│ bidirectional (<span style=\"color: #0087ff; text-decoration-color: #0087ff\">Bidirectional</span>)   │ (<span style=\"color: #00d7ff; text-decoration-color: #00d7ff\">None</span>, <span style=\"color: #00af00; text-decoration-color: #00af00\">50</span>, <span style=\"color: #00af00; text-decoration-color: #00af00\">128</span>)        │        <span style=\"color: #00af00; text-decoration-color: #00af00\">49,664</span> │\n",
              "├─────────────────────────────────┼────────────────────────┼───────────────┤\n",
              "│ dropout (<span style=\"color: #0087ff; text-decoration-color: #0087ff\">Dropout</span>)               │ (<span style=\"color: #00d7ff; text-decoration-color: #00d7ff\">None</span>, <span style=\"color: #00af00; text-decoration-color: #00af00\">50</span>, <span style=\"color: #00af00; text-decoration-color: #00af00\">128</span>)        │             <span style=\"color: #00af00; text-decoration-color: #00af00\">0</span> │\n",
              "├─────────────────────────────────┼────────────────────────┼───────────────┤\n",
              "│ bidirectional_1 (<span style=\"color: #0087ff; text-decoration-color: #0087ff\">Bidirectional</span>) │ (<span style=\"color: #00d7ff; text-decoration-color: #00d7ff\">None</span>, <span style=\"color: #00af00; text-decoration-color: #00af00\">64</span>)             │        <span style=\"color: #00af00; text-decoration-color: #00af00\">41,216</span> │\n",
              "├─────────────────────────────────┼────────────────────────┼───────────────┤\n",
              "│ dropout_1 (<span style=\"color: #0087ff; text-decoration-color: #0087ff\">Dropout</span>)             │ (<span style=\"color: #00d7ff; text-decoration-color: #00d7ff\">None</span>, <span style=\"color: #00af00; text-decoration-color: #00af00\">64</span>)             │             <span style=\"color: #00af00; text-decoration-color: #00af00\">0</span> │\n",
              "├─────────────────────────────────┼────────────────────────┼───────────────┤\n",
              "│ dense (<span style=\"color: #0087ff; text-decoration-color: #0087ff\">Dense</span>)                   │ (<span style=\"color: #00d7ff; text-decoration-color: #00d7ff\">None</span>, <span style=\"color: #00af00; text-decoration-color: #00af00\">32</span>)             │         <span style=\"color: #00af00; text-decoration-color: #00af00\">2,080</span> │\n",
              "├─────────────────────────────────┼────────────────────────┼───────────────┤\n",
              "│ output (<span style=\"color: #0087ff; text-decoration-color: #0087ff\">Dense</span>)                  │ (<span style=\"color: #00d7ff; text-decoration-color: #00d7ff\">None</span>, <span style=\"color: #00af00; text-decoration-color: #00af00\">1</span>)              │            <span style=\"color: #00af00; text-decoration-color: #00af00\">33</span> │\n",
              "└─────────────────────────────────┴────────────────────────┴───────────────┘\n",
              "</pre>\n"
            ],
            "text/plain": [
              "┏━━━━━━━━━━━━━━━━━━━━━━━━━━━━━━━━━┳━━━━━━━━━━━━━━━━━━━━━━━━┳━━━━━━━━━━━━━━━┓\n",
              "┃\u001b[1m \u001b[0m\u001b[1mLayer (type)                   \u001b[0m\u001b[1m \u001b[0m┃\u001b[1m \u001b[0m\u001b[1mOutput Shape          \u001b[0m\u001b[1m \u001b[0m┃\u001b[1m \u001b[0m\u001b[1m      Param #\u001b[0m\u001b[1m \u001b[0m┃\n",
              "┡━━━━━━━━━━━━━━━━━━━━━━━━━━━━━━━━━╇━━━━━━━━━━━━━━━━━━━━━━━━╇━━━━━━━━━━━━━━━┩\n",
              "│ embedding (\u001b[38;5;33mEmbedding\u001b[0m)           │ (\u001b[38;5;45mNone\u001b[0m, \u001b[38;5;34m50\u001b[0m, \u001b[38;5;34m32\u001b[0m)         │       \u001b[38;5;34m320,000\u001b[0m │\n",
              "├─────────────────────────────────┼────────────────────────┼───────────────┤\n",
              "│ bidirectional (\u001b[38;5;33mBidirectional\u001b[0m)   │ (\u001b[38;5;45mNone\u001b[0m, \u001b[38;5;34m50\u001b[0m, \u001b[38;5;34m128\u001b[0m)        │        \u001b[38;5;34m49,664\u001b[0m │\n",
              "├─────────────────────────────────┼────────────────────────┼───────────────┤\n",
              "│ dropout (\u001b[38;5;33mDropout\u001b[0m)               │ (\u001b[38;5;45mNone\u001b[0m, \u001b[38;5;34m50\u001b[0m, \u001b[38;5;34m128\u001b[0m)        │             \u001b[38;5;34m0\u001b[0m │\n",
              "├─────────────────────────────────┼────────────────────────┼───────────────┤\n",
              "│ bidirectional_1 (\u001b[38;5;33mBidirectional\u001b[0m) │ (\u001b[38;5;45mNone\u001b[0m, \u001b[38;5;34m64\u001b[0m)             │        \u001b[38;5;34m41,216\u001b[0m │\n",
              "├─────────────────────────────────┼────────────────────────┼───────────────┤\n",
              "│ dropout_1 (\u001b[38;5;33mDropout\u001b[0m)             │ (\u001b[38;5;45mNone\u001b[0m, \u001b[38;5;34m64\u001b[0m)             │             \u001b[38;5;34m0\u001b[0m │\n",
              "├─────────────────────────────────┼────────────────────────┼───────────────┤\n",
              "│ dense (\u001b[38;5;33mDense\u001b[0m)                   │ (\u001b[38;5;45mNone\u001b[0m, \u001b[38;5;34m32\u001b[0m)             │         \u001b[38;5;34m2,080\u001b[0m │\n",
              "├─────────────────────────────────┼────────────────────────┼───────────────┤\n",
              "│ output (\u001b[38;5;33mDense\u001b[0m)                  │ (\u001b[38;5;45mNone\u001b[0m, \u001b[38;5;34m1\u001b[0m)              │            \u001b[38;5;34m33\u001b[0m │\n",
              "└─────────────────────────────────┴────────────────────────┴───────────────┘\n"
            ]
          },
          "metadata": {},
          "output_type": "display_data"
        },
        {
          "data": {
            "text/html": [
              "<pre style=\"white-space:pre;overflow-x:auto;line-height:normal;font-family:Menlo,'DejaVu Sans Mono',consolas,'Courier New',monospace\"><span style=\"font-weight: bold\"> Total params: </span><span style=\"color: #00af00; text-decoration-color: #00af00\">412,993</span> (1.58 MB)\n",
              "</pre>\n"
            ],
            "text/plain": [
              "\u001b[1m Total params: \u001b[0m\u001b[38;5;34m412,993\u001b[0m (1.58 MB)\n"
            ]
          },
          "metadata": {},
          "output_type": "display_data"
        },
        {
          "data": {
            "text/html": [
              "<pre style=\"white-space:pre;overflow-x:auto;line-height:normal;font-family:Menlo,'DejaVu Sans Mono',consolas,'Courier New',monospace\"><span style=\"font-weight: bold\"> Trainable params: </span><span style=\"color: #00af00; text-decoration-color: #00af00\">412,993</span> (1.58 MB)\n",
              "</pre>\n"
            ],
            "text/plain": [
              "\u001b[1m Trainable params: \u001b[0m\u001b[38;5;34m412,993\u001b[0m (1.58 MB)\n"
            ]
          },
          "metadata": {},
          "output_type": "display_data"
        },
        {
          "data": {
            "text/html": [
              "<pre style=\"white-space:pre;overflow-x:auto;line-height:normal;font-family:Menlo,'DejaVu Sans Mono',consolas,'Courier New',monospace\"><span style=\"font-weight: bold\"> Non-trainable params: </span><span style=\"color: #00af00; text-decoration-color: #00af00\">0</span> (0.00 B)\n",
              "</pre>\n"
            ],
            "text/plain": [
              "\u001b[1m Non-trainable params: \u001b[0m\u001b[38;5;34m0\u001b[0m (0.00 B)\n"
            ]
          },
          "metadata": {},
          "output_type": "display_data"
        },
        {
          "name": "stdout",
          "output_type": "stream",
          "text": [
            "\n",
            "--- Starting Model Training ---\n",
            "Epoch 1/10\n",
            "360/360 - 29s - 82ms/step - loss: 2.2902 - mean_absolute_error: 1.1469 - val_loss: 1.3561 - val_mean_absolute_error: 0.8142\n",
            "Epoch 2/10\n",
            "360/360 - 25s - 70ms/step - loss: 1.3495 - mean_absolute_error: 0.8189 - val_loss: 1.3698 - val_mean_absolute_error: 0.8897\n",
            "Epoch 3/10\n",
            "360/360 - 26s - 72ms/step - loss: 1.1904 - mean_absolute_error: 0.7415 - val_loss: 1.3922 - val_mean_absolute_error: 0.8926\n",
            "Epoch 4/10\n",
            "360/360 - 28s - 78ms/step - loss: 1.0711 - mean_absolute_error: 0.6883 - val_loss: 1.3960 - val_mean_absolute_error: 0.8820\n",
            "--- Model Training Complete ---\n"
          ]
        }
      ],
      "source": [
        "import tensorflow as tf\n",
        "from tensorflow.keras.models import Sequential\n",
        "from tensorflow.keras.layers import Input, Dense, Embedding, LSTM, Dropout, Bidirectional\n",
        "from tensorflow.keras.callbacks import EarlyStopping\n",
        "\n",
        "# We are building a text-only model\n",
        "model = Sequential()\n",
        "model.add(Input(shape=(max_length,)))\n",
        "model.add(Embedding(input_dim=vocab_size, output_dim=32))\n",
        "model.add(Bidirectional(LSTM(units=64, return_sequences=True)))\n",
        "model.add(Dropout(0.3))\n",
        "model.add(Bidirectional(LSTM(units=32)))\n",
        "model.add(Dropout(0.3))\n",
        "model.add(Dense(32, activation='relu'))\n",
        "# Final output layer: 1 neuron for regression (predicting the score 1-5)\n",
        "model.add(Dense(1, name='output'))\n",
        "\n",
        "# 5. Compile the Model\n",
        "# We use 'mean_squared_error' as the loss because this is a regression problem\n",
        "model.compile(loss='mean_squared_error',\n",
        "              optimizer='adam',\n",
        "              metrics=['mean_absolute_error']) # MAE is easy to interpret\n",
        "\n",
        "model.summary()\n",
        "\n",
        "# 6. Train the Model\n",
        "print(\"\\n--- Starting Model Training ---\")\n",
        "history = model.fit(\n",
        "    X_train,\n",
        "    y_train,\n",
        "    epochs=10, # With 28k rows, 10 epochs is a good start\n",
        "    batch_size=64,\n",
        "    validation_data=(X_test, y_test),\n",
        "    callbacks=[EarlyStopping(monitor='val_loss', patience=3, restore_best_weights=True)],\n",
        "    verbose=2\n",
        ")\n",
        "print(\"--- Model Training Complete ---\")"
      ]
    },
    {
      "cell_type": "markdown",
      "metadata": {},
      "source": [
        "#  Approach 4: Evaluation and Insight Generation"
      ]
    },
    {
      "cell_type": "markdown",
      "metadata": {},
      "source": [
        "Assess the model's performance on the unseen test data."
      ]
    },
    {
      "cell_type": "code",
      "execution_count": 6,
      "metadata": {},
      "outputs": [
        {
          "name": "stdout",
          "output_type": "stream",
          "text": [
            "\n",
            "--- Model Evaluation ---\n",
            "Test Mean Absolute Error (MAE): 0.8142\n",
            "Test Mean Squared Error (MSE): 1.3561\n"
          ]
        },
        {
          "data": {
            "image/png": "[encoded data removed]",
            "text/plain": [
              "<Figure size 1000x600 with 1 Axes>"
            ]
          },
          "metadata": {},
          "output_type": "display_data"
        },
        {
          "name": "stdout",
          "output_type": "stream",
          "text": [
            "\u001b[1m180/180\u001b[0m \u001b[32m━━━━━━━━━━━━━━━━━━━━\u001b[0m\u001b[37m\u001b[0m \u001b[1m3s\u001b[0m 12ms/step\n",
            "\n",
            "--- Sample Predictions ---\n",
            "       Actual_CSAT  Predicted_CSAT\n",
            "10454            4            4.27\n",
            "70732            5            4.67\n",
            "26956            1            3.37\n",
            "39805            4            4.82\n",
            "37331            5            4.36\n",
            "8953             1            1.77\n",
            "59848            5            3.99\n",
            "77767            5            4.92\n",
            "9249             5            4.57\n",
            "15573            5            4.76\n"
          ]
        }
      ],
      "source": [
        "import matplotlib.pyplot as plt\n",
        "from sklearn.metrics import mean_absolute_error\n",
        "\n",
        "# 1. Evaluate on Test Set\n",
        "loss, mae = model.evaluate(X_test, y_test, verbose=0)\n",
        "print(f\"\\n--- Model Evaluation ---\")\n",
        "print(f\"Test Mean Absolute Error (MAE): {mae:.4f}\")\n",
        "print(f\"Test Mean Squared Error (MSE): {loss:.4f}\")\n",
        "\n",
        "# Interpretation: The MAE shows how far off our predicted score is on average.\n",
        "# An MAE of 0.7 means, on average, the model's prediction is\n",
        "# 0.7 points away from the actual 1-5 score.\n",
        "\n",
        "# 2. Plot Training History\n",
        "pd.DataFrame(history.history).plot(figsize=(10, 6))\n",
        "plt.title(\"Model Training History (Loss & MAE)\")\n",
        "plt.xlabel(\"Epochs\")\n",
        "plt.ylabel(\"Error/Loss\")\n",
        "plt.grid(True)\n",
        "plt.show()\n",
        "\n",
        "# 3. Make Predictions and Compare\n",
        "predictions = model.predict(X_test)\n",
        "\n",
        "print(\"\\n--- Sample Predictions ---\")\n",
        "# Flatten predictions and y_test for easier comparison\n",
        "results = pd.DataFrame({'Actual_CSAT': y_test, 'Predicted_CSAT': predictions.flatten()})\n",
        "results['Predicted_CSAT'] = results['Predicted_CSAT'].round(2)\n",
        "print(results.head(10))"
      ]
    },
    {
      "cell_type": "markdown",
      "metadata": {},
      "source": [
        "# Approach 5: Insight Generation"
      ]
    },
    {
      "cell_type": "markdown",
      "metadata": {},
      "source": [
        "Use the trained model to analyze new, hypothetical customer remarks."
      ]
    },
    {
      "cell_type": "code",
      "execution_count": 7,
      "metadata": {},
      "outputs": [
        {
          "name": "stdout",
          "output_type": "stream",
          "text": [
            "\n",
            "--- Insight Generation (What-If Analysis) ---\n",
            "\u001b[1m1/1\u001b[0m \u001b[32m━━━━━━━━━━━━━━━━━━━━\u001b[0m\u001b[37m\u001b[0m \u001b[1m0s\u001b[0m 38ms/step\n",
            "Remark 1 ('absolutely fantastic service, the agent was so helpful and kind!') -> Predicted CSAT: 4.28\n",
            "\u001b[1m1/1\u001b[0m \u001b[32m━━━━━━━━━━━━━━━━━━━━\u001b[0m\u001b[37m\u001b[0m \u001b[1m0s\u001b[0m 35ms/step\n",
            "Remark 2 ('this is the worst experience i have ever had. no one will help me and the product is broken.') -> Predicted CSAT: 1.25\n",
            "\u001b[1m1/1\u001b[0m \u001b[32m━━━━━━━━━━━━━━━━━━━━\u001b[0m\u001b[37m\u001b[0m \u001b[1m0s\u001b[0m 42ms/step\n",
            "Remark 3 ('i am just writing to ask a question about my order status') -> Predicted CSAT: 2.83\n"
          ]
        }
      ],
      "source": [
        "# Function to preprocess new, raw data for prediction\n",
        "def predict_new_remark(text_input):\n",
        "    # 1. Clean text\n",
        "    cleaned_text = clean_text(text_input)\n",
        "    \n",
        "    # 2. Tokenize and pad text\n",
        "    sequence = tokenizer.texts_to_sequences([cleaned_text])\n",
        "    padded_text = pad_sequences(sequence, maxlen=max_length, padding='post', truncating=trunc_type)\n",
        "    \n",
        "    # 4. Predict\n",
        "    prediction = model.predict(padded_text)\n",
        "    return prediction[0][0]\n",
        "\n",
        "print(\"\\n--- Insight Generation (What-If Analysis) ---\")\n",
        "\n",
        "# Scenario 1: A very happy customer\n",
        "remark1 = \"absolutely fantastic service, the agent was so helpful and kind!\"\n",
        "pred1 = predict_new_remark(remark1)\n",
        "print(f\"Remark 1 ('{remark1}') -> Predicted CSAT: {pred1:.2f}\")\n",
        "\n",
        "# Scenario 2: A very unhappy customer\n",
        "remark2 = \"this is the worst experience i have ever had. no one will help me and the product is broken.\"\n",
        "pred2 = predict_new_remark(remark2)\n",
        "print(f\"Remark 2 ('{remark2}') -> Predicted CSAT: {pred2:.2f}\")\n",
        "\n",
        "# Scenario 3: A neutral/confused customer\n",
        "remark3 = \"i am just writing to ask a question about my order status\"\n",
        "pred3 = predict_new_remark(remark3)\n",
        "print(f\"Remark 3 ('{remark3}') -> Predicted CSAT: {pred3:.2f}\")\n",
        "\n",
        "# --- Derived Insights ---\n",
        "# 1. This model can be used as a real-time 'early warning system'.\n",
        "# 2. Any customer remark that gets a predicted score below 3.0\n",
        "#    can be automatically flagged for a supervisor to review.\n",
        "# 3. This helps the business prioritize interventions and save\n",
        "#    at-risk customers *before* they officially complain."
      ]
    },
    {
      "cell_type": "markdown",
      "metadata": {},
      "source": [
        "# Approach 6: Model Deployment"
      ]
    },
    {
      "cell_type": "code",
      "execution_count": 1,
      "metadata": {},
      "outputs": [
        {
          "name": "stdout",
          "output_type": "stream",
          "text": [
            "Downloading NLTK data (stopwords, wordnet)...\n"
          ]
        },
        {
          "name": "stderr",
          "output_type": "stream",
          "text": [
            "[nltk_data] Downloading package stopwords to\n",
            "[nltk_data]     C:\\Users\\only1\\AppData\\Roaming\\nltk_data...\n",
            "[nltk_data]   Package stopwords is already up-to-date!\n",
            "[nltk_data] Downloading package wordnet to\n",
            "[nltk_data]     C:\\Users\\only1\\AppData\\Roaming\\nltk_data...\n",
            "[nltk_data]   Package wordnet is already up-to-date!\n"
          ]
        },
        {
          "name": "stdout",
          "output_type": "stream",
          "text": [
            "Loading and preparing data from eCommerce_Customer_support_data.csv...\n",
            "Found 28742 usable rows with customer remarks.\n",
            "Engineering text features...\n",
            "Building the Deep Learning model...\n"
          ]
        },
        {
          "data": {
            "text/html": [
              "<pre style=\"white-space:pre;overflow-x:auto;line-height:normal;font-family:Menlo,'DejaVu Sans Mono',consolas,'Courier New',monospace\"><span style=\"font-weight: bold\">Model: \"sequential\"</span>\n",
              "</pre>\n"
            ],
            "text/plain": [
              "\u001b[1mModel: \"sequential\"\u001b[0m\n"
            ]
          },
          "metadata": {},
          "output_type": "display_data"
        },
        {
          "data": {
            "text/html": [
              "<pre style=\"white-space:pre;overflow-x:auto;line-height:normal;font-family:Menlo,'DejaVu Sans Mono',consolas,'Courier New',monospace\">┏━━━━━━━━━━━━━━━━━━━━━━━━━━━━━━━━━┳━━━━━━━━━━━━━━━━━━━━━━━━┳━━━━━━━━━━━━━━━┓\n",
              "┃<span style=\"font-weight: bold\"> Layer (type)                    </span>┃<span style=\"font-weight: bold\"> Output Shape           </span>┃<span style=\"font-weight: bold\">       Param # </span>┃\n",
              "┡━━━━━━━━━━━━━━━━━━━━━━━━━━━━━━━━━╇━━━━━━━━━━━━━━━━━━━━━━━━╇━━━━━━━━━━━━━━━┩\n",
              "│ embedding (<span style=\"color: #0087ff; text-decoration-color: #0087ff\">Embedding</span>)           │ (<span style=\"color: #00d7ff; text-decoration-color: #00d7ff\">None</span>, <span style=\"color: #00af00; text-decoration-color: #00af00\">50</span>, <span style=\"color: #00af00; text-decoration-color: #00af00\">32</span>)         │       <span style=\"color: #00af00; text-decoration-color: #00af00\">320,000</span> │\n",
              "├─────────────────────────────────┼────────────────────────┼───────────────┤\n",
              "│ bidirectional (<span style=\"color: #0087ff; text-decoration-color: #0087ff\">Bidirectional</span>)   │ (<span style=\"color: #00d7ff; text-decoration-color: #00d7ff\">None</span>, <span style=\"color: #00af00; text-decoration-color: #00af00\">50</span>, <span style=\"color: #00af00; text-decoration-color: #00af00\">128</span>)        │        <span style=\"color: #00af00; text-decoration-color: #00af00\">49,664</span> │\n",
              "├─────────────────────────────────┼────────────────────────┼───────────────┤\n",
              "│ dropout (<span style=\"color: #0087ff; text-decoration-color: #0087ff\">Dropout</span>)               │ (<span style=\"color: #00d7ff; text-decoration-color: #00d7ff\">None</span>, <span style=\"color: #00af00; text-decoration-color: #00af00\">50</span>, <span style=\"color: #00af00; text-decoration-color: #00af00\">128</span>)        │             <span style=\"color: #00af00; text-decoration-color: #00af00\">0</span> │\n",
              "├─────────────────────────────────┼────────────────────────┼───────────────┤\n",
              "│ bidirectional_1 (<span style=\"color: #0087ff; text-decoration-color: #0087ff\">Bidirectional</span>) │ (<span style=\"color: #00d7ff; text-decoration-color: #00d7ff\">None</span>, <span style=\"color: #00af00; text-decoration-color: #00af00\">64</span>)             │        <span style=\"color: #00af00; text-decoration-color: #00af00\">41,216</span> │\n",
              "├─────────────────────────────────┼────────────────────────┼───────────────┤\n",
              "│ dropout_1 (<span style=\"color: #0087ff; text-decoration-color: #0087ff\">Dropout</span>)             │ (<span style=\"color: #00d7ff; text-decoration-color: #00d7ff\">None</span>, <span style=\"color: #00af00; text-decoration-color: #00af00\">64</span>)             │             <span style=\"color: #00af00; text-decoration-color: #00af00\">0</span> │\n",
              "├─────────────────────────────────┼────────────────────────┼───────────────┤\n",
              "│ dense (<span style=\"color: #0087ff; text-decoration-color: #0087ff\">Dense</span>)                   │ (<span style=\"color: #00d7ff; text-decoration-color: #00d7ff\">None</span>, <span style=\"color: #00af00; text-decoration-color: #00af00\">32</span>)             │         <span style=\"color: #00af00; text-decoration-color: #00af00\">2,080</span> │\n",
              "├─────────────────────────────────┼────────────────────────┼───────────────┤\n",
              "│ output (<span style=\"color: #0087ff; text-decoration-color: #0087ff\">Dense</span>)                  │ (<span style=\"color: #00d7ff; text-decoration-color: #00d7ff\">None</span>, <span style=\"color: #00af00; text-decoration-color: #00af00\">1</span>)              │            <span style=\"color: #00af00; text-decoration-color: #00af00\">33</span> │\n",
              "└─────────────────────────────────┴────────────────────────┴───────────────┘\n",
              "</pre>\n"
            ],
            "text/plain": [
              "┏━━━━━━━━━━━━━━━━━━━━━━━━━━━━━━━━━┳━━━━━━━━━━━━━━━━━━━━━━━━┳━━━━━━━━━━━━━━━┓\n",
              "┃\u001b[1m \u001b[0m\u001b[1mLayer (type)                   \u001b[0m\u001b[1m \u001b[0m┃\u001b[1m \u001b[0m\u001b[1mOutput Shape          \u001b[0m\u001b[1m \u001b[0m┃\u001b[1m \u001b[0m\u001b[1m      Param #\u001b[0m\u001b[1m \u001b[0m┃\n",
              "┡━━━━━━━━━━━━━━━━━━━━━━━━━━━━━━━━━╇━━━━━━━━━━━━━━━━━━━━━━━━╇━━━━━━━━━━━━━━━┩\n",
              "│ embedding (\u001b[38;5;33mEmbedding\u001b[0m)           │ (\u001b[38;5;45mNone\u001b[0m, \u001b[38;5;34m50\u001b[0m, \u001b[38;5;34m32\u001b[0m)         │       \u001b[38;5;34m320,000\u001b[0m │\n",
              "├─────────────────────────────────┼────────────────────────┼───────────────┤\n",
              "│ bidirectional (\u001b[38;5;33mBidirectional\u001b[0m)   │ (\u001b[38;5;45mNone\u001b[0m, \u001b[38;5;34m50\u001b[0m, \u001b[38;5;34m128\u001b[0m)        │        \u001b[38;5;34m49,664\u001b[0m │\n",
              "├─────────────────────────────────┼────────────────────────┼───────────────┤\n",
              "│ dropout (\u001b[38;5;33mDropout\u001b[0m)               │ (\u001b[38;5;45mNone\u001b[0m, \u001b[38;5;34m50\u001b[0m, \u001b[38;5;34m128\u001b[0m)        │             \u001b[38;5;34m0\u001b[0m │\n",
              "├─────────────────────────────────┼────────────────────────┼───────────────┤\n",
              "│ bidirectional_1 (\u001b[38;5;33mBidirectional\u001b[0m) │ (\u001b[38;5;45mNone\u001b[0m, \u001b[38;5;34m64\u001b[0m)             │        \u001b[38;5;34m41,216\u001b[0m │\n",
              "├─────────────────────────────────┼────────────────────────┼───────────────┤\n",
              "│ dropout_1 (\u001b[38;5;33mDropout\u001b[0m)             │ (\u001b[38;5;45mNone\u001b[0m, \u001b[38;5;34m64\u001b[0m)             │             \u001b[38;5;34m0\u001b[0m │\n",
              "├─────────────────────────────────┼────────────────────────┼───────────────┤\n",
              "│ dense (\u001b[38;5;33mDense\u001b[0m)                   │ (\u001b[38;5;45mNone\u001b[0m, \u001b[38;5;34m32\u001b[0m)             │         \u001b[38;5;34m2,080\u001b[0m │\n",
              "├─────────────────────────────────┼────────────────────────┼───────────────┤\n",
              "│ output (\u001b[38;5;33mDense\u001b[0m)                  │ (\u001b[38;5;45mNone\u001b[0m, \u001b[38;5;34m1\u001b[0m)              │            \u001b[38;5;34m33\u001b[0m │\n",
              "└─────────────────────────────────┴────────────────────────┴───────────────┘\n"
            ]
          },
          "metadata": {},
          "output_type": "display_data"
        },
        {
          "data": {
            "text/html": [
              "<pre style=\"white-space:pre;overflow-x:auto;line-height:normal;font-family:Menlo,'DejaVu Sans Mono',consolas,'Courier New',monospace\"><span style=\"font-weight: bold\"> Total params: </span><span style=\"color: #00af00; text-decoration-color: #00af00\">412,993</span> (1.58 MB)\n",
              "</pre>\n"
            ],
            "text/plain": [
              "\u001b[1m Total params: \u001b[0m\u001b[38;5;34m412,993\u001b[0m (1.58 MB)\n"
            ]
          },
          "metadata": {},
          "output_type": "display_data"
        },
        {
          "data": {
            "text/html": [
              "<pre style=\"white-space:pre;overflow-x:auto;line-height:normal;font-family:Menlo,'DejaVu Sans Mono',consolas,'Courier New',monospace\"><span style=\"font-weight: bold\"> Trainable params: </span><span style=\"color: #00af00; text-decoration-color: #00af00\">412,993</span> (1.58 MB)\n",
              "</pre>\n"
            ],
            "text/plain": [
              "\u001b[1m Trainable params: \u001b[0m\u001b[38;5;34m412,993\u001b[0m (1.58 MB)\n"
            ]
          },
          "metadata": {},
          "output_type": "display_data"
        },
        {
          "data": {
            "text/html": [
              "<pre style=\"white-space:pre;overflow-x:auto;line-height:normal;font-family:Menlo,'DejaVu Sans Mono',consolas,'Courier New',monospace\"><span style=\"font-weight: bold\"> Non-trainable params: </span><span style=\"color: #00af00; text-decoration-color: #00af00\">0</span> (0.00 B)\n",
              "</pre>\n"
            ],
            "text/plain": [
              "\u001b[1m Non-trainable params: \u001b[0m\u001b[38;5;34m0\u001b[0m (0.00 B)\n"
            ]
          },
          "metadata": {},
          "output_type": "display_data"
        },
        {
          "name": "stdout",
          "output_type": "stream",
          "text": [
            "None\n",
            "Training the model (model.fit)... This may take a few minutes.\n",
            "Epoch 1/10\n",
            "360/360 - 28s - 78ms/step - loss: 2.3404 - mean_absolute_error: 1.1546 - val_loss: 1.3442 - val_mean_absolute_error: 0.8114\n",
            "Epoch 2/10\n",
            "360/360 - 34s - 95ms/step - loss: 1.3757 - mean_absolute_error: 0.8305 - val_loss: 1.3341 - val_mean_absolute_error: 0.8457\n",
            "Epoch 3/10\n",
            "360/360 - 30s - 84ms/step - loss: 1.1891 - mean_absolute_error: 0.7463 - val_loss: 1.3381 - val_mean_absolute_error: 0.8266\n",
            "Epoch 4/10\n",
            "360/360 - 29s - 80ms/step - loss: 1.0717 - mean_absolute_error: 0.6902 - val_loss: 1.3447 - val_mean_absolute_error: 0.8162\n",
            "Epoch 5/10\n",
            "360/360 - 31s - 85ms/step - loss: 1.0028 - mean_absolute_error: 0.6595 - val_loss: 1.3848 - val_mean_absolute_error: 0.7727\n",
            "Epoch 6/10\n",
            "360/360 - 29s - 82ms/step - loss: 0.9518 - mean_absolute_error: 0.6343 - val_loss: 1.4610 - val_mean_absolute_error: 0.8705\n",
            "Epoch 7/10\n",
            "360/360 - 29s - 79ms/step - loss: 0.9106 - mean_absolute_error: 0.6123 - val_loss: 1.4912 - val_mean_absolute_error: 0.8505\n",
            "Epoch 8/10\n",
            "360/360 - 27s - 76ms/step - loss: 0.8665 - mean_absolute_error: 0.5901 - val_loss: 1.4716 - val_mean_absolute_error: 0.8454\n",
            "Epoch 9/10\n",
            "360/360 - 27s - 75ms/step - loss: 0.8383 - mean_absolute_error: 0.5759 - val_loss: 1.4945 - val_mean_absolute_error: 0.8309\n",
            "Epoch 10/10\n",
            "360/360 - 25s - 71ms/step - loss: 0.8197 - mean_absolute_error: 0.5622 - val_loss: 1.5151 - val_mean_absolute_error: 0.8807\n"
          ]
        },
        {
          "name": "stderr",
          "output_type": "stream",
          "text": [
            "WARNING:absl:You are saving your model as an HDF5 file via `model.save()` or `keras.saving.save_model(model)`. This file format is considered legacy. We recommend using instead the native Keras format, e.g. `model.save('my_model.keras')` or `keras.saving.save_model(model, 'my_model.keras')`. \n"
          ]
        },
        {
          "name": "stdout",
          "output_type": "stream",
          "text": [
            "Model training complete.\n",
            "Saving model to 'deep_csat_text_model.h5'...\n",
            "Saving tokenizer to 'tokenizer.json'...\n",
            "\n",
            "--- SCRIPT COMPLETE ---\n",
            "Your two deployment files have been saved to your folder:\n",
            "1. deep_csat_text_model.h5\n",
            "2. tokenizer.json\n"
          ]
        }
      ],
      "source": [
        "import pandas as pd\n",
        "import numpy as np\n",
        "import re\n",
        "import nltk\n",
        "import json\n",
        "import tensorflow as tf\n",
        "from nltk.corpus import stopwords\n",
        "from nltk.stem import WordNetLemmatizer\n",
        "from sklearn.model_selection import train_test_split\n",
        "from tensorflow.keras.preprocessing.text import Tokenizer\n",
        "from tensorflow.keras.preprocessing.sequence import pad_sequences\n",
        "from tensorflow.keras.models import Sequential\n",
        "from tensorflow.keras.layers import Input, Dense, Embedding, LSTM, Dropout, Bidirectional\n",
        "import os\n",
        "\n",
        "# --- 1. DOWNLOAD NLTK DATA (Required for text cleaning) ---\n",
        "print(\"Downloading NLTK data (stopwords, wordnet)...\")\n",
        "nltk.download('stopwords')\n",
        "nltk.download('wordnet')\n",
        "\n",
        "# --- 2. DATA PREPARATION ---\n",
        "print(\"Loading and preparing data from eCommerce_Customer_support_data.csv...\")\n",
        "try:\n",
        "    df = pd.read_csv('eCommerce_Customer_support_data.csv')\n",
        "except FileNotFoundError:\n",
        "    print(\"ERROR: 'eCommerce_Customer_support_data.csv' not found.\")\n",
        "    print(\"Please make sure the CSV file is in the same folder as this script.\")\n",
        "    exit()\n",
        "\n",
        "# Rename columns for easier use\n",
        "df.rename(columns={\n",
        "    'CSAT Score': 'csat_score',\n",
        "    'Customer Remarks': 'customer_remarks'\n",
        "}, inplace=True)\n",
        "\n",
        "# Select only rows where we have customer remarks\n",
        "df_clean = df[['customer_remarks', 'csat_score']].copy()\n",
        "df_clean.dropna(subset=['customer_remarks'], inplace=True)\n",
        "\n",
        "print(f\"Found {len(df_clean)} usable rows with customer remarks.\")\n",
        "\n",
        "# Initialize text cleaning tools\n",
        "stop_words = set(stopwords.words('english'))\n",
        "lemmatizer = WordNetLemmatizer()\n",
        "\n",
        "def clean_text(text):\n",
        "    text = str(text).lower()\n",
        "    text = re.sub(r'<.*?>', '', text) # Remove HTML\n",
        "    text = re.sub(r'[^a-z\\s]', '', text) # Remove punctuation and numbers\n",
        "    words = text.split()\n",
        "    words = [lemmatizer.lemmatize(word) for word in words if word not in stop_words]\n",
        "    return ' '.join(words)\n",
        "\n",
        "# Apply the cleaning function\n",
        "df_clean['cleaned_text'] = df_clean['customer_remarks'].apply(clean_text)\n",
        "\n",
        "# --- 3. FEATURE ENGINEERING & TOKENIZATION ---\n",
        "print(\"Engineering text features...\")\n",
        "X = df_clean['cleaned_text']\n",
        "y = df_clean['csat_score']\n",
        "\n",
        "# Define tokenizer settings\n",
        "vocab_size = 10000\n",
        "max_length = 50\n",
        "trunc_type = 'post'\n",
        "oov_tok = '<OOV>'\n",
        "\n",
        "tokenizer = Tokenizer(num_words=vocab_size, oov_token=oov_tok)\n",
        "tokenizer.fit_on_texts(X)\n",
        "\n",
        "X_sequences = tokenizer.texts_to_sequences(X)\n",
        "X_padded = pad_sequences(X_sequences, maxlen=max_length, padding='post', truncating=trunc_type)\n",
        "\n",
        "# Split the data\n",
        "X_train, X_test, y_train, y_test = train_test_split(\n",
        "    X_padded, y, test_size=0.2, random_state=42\n",
        ")\n",
        "\n",
        "# --- 4. MODEL DEVELOPMENT ---\n",
        "print(\"Building the Deep Learning model...\")\n",
        "model = Sequential()\n",
        "model.add(Input(shape=(max_length,)))\n",
        "model.add(Embedding(input_dim=vocab_size, output_dim=32))\n",
        "model.add(Bidirectional(LSTM(units=64, return_sequences=True)))\n",
        "model.add(Dropout(0.3))\n",
        "model.add(Bidirectional(LSTM(units=32)))\n",
        "model.add(Dropout(0.3))\n",
        "model.add(Dense(32, activation='relu'))\n",
        "model.add(Dense(1, name='output')) # Output layer for regression\n",
        "\n",
        "model.compile(loss='mean_squared_error',\n",
        "              optimizer='adam',\n",
        "              metrics=['mean_absolute_error'])\n",
        "\n",
        "print(model.summary())\n",
        "\n",
        "# --- THIS IS THE CODE YOU ASKED FOR (Part 1) ---\n",
        "print(\"Training the model (model.fit)... This may take a few minutes.\")\n",
        "history = model.fit(\n",
        "    X_train,\n",
        "    y_train,\n",
        "    epochs=10, # 10 epochs is a good balance\n",
        "    batch_size=64,\n",
        "    validation_data=(X_test, y_test),\n",
        "    verbose=2\n",
        ")\n",
        "print(\"Model training complete.\")\n",
        "\n",
        "# --- THIS IS THE CODE YOU ASKED FOR (Part 2) ---\n",
        "print(\"Saving model to 'deep_csat_text_model.h5'...\")\n",
        "model.save('deep_csat_text_model.h5')\n",
        "\n",
        "# --- THIS IS THE CODE YOU ASKED FOR (Part 3) ---\n",
        "print(\"Saving tokenizer to 'tokenizer.json'...\")\n",
        "tokenizer_json = tokenizer.to_json()\n",
        "with open('tokenizer.json', 'w', encoding='utf-8') as f:\n",
        "    f.write(json.dumps(tokenizer_json, ensure_ascii=False))\n",
        "\n",
        "print(\"\\n--- SCRIPT COMPLETE ---\")\n",
        "print(\"Your two deployment files have been saved to your folder:\")\n",
        "print(\"1. deep_csat_text_model.h5\")\n",
        "print(\"2. tokenizer.json\")"
      ]
    },
    {
      "cell_type": "markdown",
      "metadata": {
        "id": "gCX9965dhzqZ"
      },
      "source": [
        "# **Conclusion**"
      ]
    },
    {
      "cell_type": "markdown",
      "metadata": {
        "id": "Fjb1IsQkh3yE"
      },
      "source": [
        "This project successfully demonstrates the power of deep learning to solve a tangible business problem. By transforming qualitative, unstructured customer remarks into a quantitative, predictive CSAT score, the DeepCSAT model provides an invaluable tool for any e-commerce business.\n",
        "\n",
        "The final Streamlit application proves that this complex model can be deployed in a simple, accessible way for non-technical users. Instead of just analyzing historical reports, a customer support manager can now use this tool to get an immediate pulse check on a customer's sentiment. This shifts the business's customer service model from reactive to proactive, enabling them to identify and save at-risk customers in real-time and ultimately fostering greater customer loyalty."
      ]
    },
    {
      "cell_type": "markdown",
      "metadata": {
        "id": "gIfDvo9L0UH2"
      },
      "source": [
        "### ***Hurrah! You have successfully completed your Machine Learning Capstone Project !!!***"
      ]
    }
  ],
  "metadata": {
    "colab": {
      "collapsed_sections": [
        "vncDsAP0Gaoa",
        "FJNUwmbgGyua",
        "w6K7xa23Elo4",
        "yQaldy8SH6Dl",
        "mDgbUHAGgjLW",
        "O_i_v8NEhb9l",
        "HhfV-JJviCcP",
        "Y3lxredqlCYt",
        "3RnN4peoiCZX",
        "x71ZqKXriCWQ",
        "7hBIi_osiCS2",
        "JlHwYmJAmNHm",
        "35m5QtbWiB9F",
        "PoPl-ycgm1ru",
        "H0kj-8xxnORC",
        "nA9Y7ga8ng1Z",
        "PBTbrJXOngz2",
        "u3PMJOP6ngxN",
        "dauF4eBmngu3",
        "bKJF3rekwFvQ",
        "MSa1f5Uengrz",
        "GF8Ens_Soomf",
        "0wOQAZs5pc--",
        "K5QZ13OEpz2H",
        "lQ7QKXXCp7Bj",
        "448CDAPjqfQr",
        "KSlN3yHqYklG",
        "t6dVpIINYklI",
        "ijmpgYnKYklI",
        "-JiQyfWJYklI",
        "EM7whBJCYoAo",
        "fge-S5ZAYoAp",
        "85gYPyotYoAp",
        "RoGjAbkUYoAp",
        "4Of9eVA-YrdM",
        "iky9q4vBYrdO",
        "F6T5p64dYrdO",
        "y-Ehk30pYrdP",
        "bamQiAODYuh1",
        "QHF8YVU7Yuh3",
        "GwzvFGzlYuh3",
        "qYpmQ266Yuh3",
        "OH-pJp9IphqM",
        "bbFf2-_FphqN",
        "_ouA3fa0phqN",
        "Seke61FWphqN",
        "PIIx-8_IphqN",
        "t27r6nlMphqO",
        "r2jJGEOYphqO",
        "b0JNsNcRphqO",
        "BZR9WyysphqO",
        "jj7wYXLtphqO",
        "eZrbJ2SmphqO",
        "rFu4xreNphqO",
        "YJ55k-q6phqO",
        "gCFgpxoyphqP",
        "OVtJsKN_phqQ",
        "lssrdh5qphqQ",
        "U2RJ9gkRphqQ",
        "1M8mcRywphqQ",
        "tgIPom80phqQ",
        "JMzcOPDDphqR",
        "x-EpHcCOp1ci",
        "X_VqEhTip1ck",
        "8zGJKyg5p1ck",
        "PVzmfK_Ep1ck",
        "n3dbpmDWp1ck",
        "ylSl6qgtp1ck",
        "ZWILFDl5p1ck",
        "M7G43BXep1ck",
        "Ag9LCva-p1cl",
        "E6MkPsBcp1cl",
        "2cELzS2fp1cl",
        "3MPXvC8up1cl",
        "NC_X3p0fY2L0",
        "UV0SzAkaZNRQ",
        "YPEH6qLeZNRQ",
        "q29F0dvdveiT",
        "EXh0U9oCveiU",
        "22aHeOlLveiV",
        "g-ATYxFrGrvw",
        "Yfr_Vlr8HBkt",
        "8yEUt7NnHlrM",
        "tEA2Xm5dHt1r",
        "I79__PHVH19G",
        "Ou-I18pAyIpj",
        "fF3858GYyt-u",
        "4_0_7-oCpUZd",
        "hwyV_J3ipUZe",
        "3yB-zSqbpUZe",
        "dEUvejAfpUZe",
        "Fd15vwWVpUZf",
        "bn_IUdTipZyH",
        "49K5P_iCpZyH",
        "Nff-vKELpZyI",
        "kLW572S8pZyI",
        "dWbDXHzopZyI",
        "yLjJCtPM0KBk",
        "xiyOF9F70UgQ",
        "7wuGOrhz0itI",
        "id1riN9m0vUs",
        "578E2V7j08f6",
        "89xtkJwZ18nB",
        "67NQN5KX2AMe",
        "Iwf50b-R2tYG",
        "GMQiZwjn3iu7",
        "WVIkgGqN3qsr",
        "XkPnILGE3zoT",
        "Hlsf0x5436Go",
        "mT9DMSJo4nBL",
        "c49ITxTc407N",
        "OeJFEK0N496M",
        "9ExmJH0g5HBk",
        "cJNqERVU536h",
        "k5UmGsbsOxih",
        "T0VqWOYE6DLQ",
        "qBMux9mC6MCf",
        "-oLEiFgy-5Pf",
        "C74aWNz2AliB",
        "2DejudWSA-a0",
        "pEMng2IbBLp7",
        "rAdphbQ9Bhjc",
        "TNVZ9zx19K6k",
        "nqoHp30x9hH9",
        "rMDnDkt2B6du",
        "yiiVWRdJDDil",
        "1UUpS68QDMuG",
        "kexQrXU-DjzY",
        "T5CmagL3EC8N",
        "BhH2vgX9EjGr",
        "qjKvONjwE8ra",
        "P1XJ9OREExlT",
        "VFOzZv6IFROw",
        "TIqpNgepFxVj",
        "VfCC591jGiD4",
        "OB4l2ZhMeS1U",
        "ArJBuiUVfxKd",
        "4qY1EAkEfxKe",
        "PiV4Ypx8fxKe",
        "TfvqoZmBfxKf",
        "dJ2tPlVmpsJ0",
        "JWYfwnehpsJ1",
        "-jK_YjpMpsJ2",
        "HAih1iBOpsJ2",
        "zVGeBEFhpsJ2",
        "bmKjuQ-FpsJ3",
        "Fze-IPXLpx6K",
        "7AN1z2sKpx6M",
        "9PIHJqyupx6M",
        "_-qAgymDpx6N",
        "Z-hykwinpx6N",
        "h_CCil-SKHpo",
        "cBFFvTBNJzUa",
        "HvGl1hHyA_VK",
        "EyNgTHvd2WFk",
        "KH5McJBi2d8v",
        "iW_Lq9qf2h6X",
        "-Kee-DAl2viO",
        "gCX9965dhzqZ",
        "gIfDvo9L0UH2"
      ],
      "private_outputs": true,
      "provenance": []
    },
    "kernelspec": {
      "display_name": "Python 3",
      "language": "python",
      "name": "python3"
    },
    "language_info": {
      "codemirror_mode": {
        "name": "ipython",
        "version": 3
      },
      "file_extension": ".py",
      "mimetype": "text/x-python",
      "name": "python",
      "nbconvert_exporter": "python",
      "pygments_lexer": "ipython3",
      "version": "3.10.0"
    }
  },
  "nbformat": 4,
  "nbformat_minor": 0
}
